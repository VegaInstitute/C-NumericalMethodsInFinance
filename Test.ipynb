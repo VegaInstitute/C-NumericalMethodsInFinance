{
 "cells": [
  {
   "cell_type": "markdown",
   "metadata": {},
   "source": [
    "## Numerical Methods In Finance | fall 2024\n"
   ]
  },
  {
   "cell_type": "markdown",
   "metadata": {},
   "source": [
    "### *Test*"
   ]
  },
  {
   "cell_type": "markdown",
   "metadata": {},
   "source": [
    "Please send your file to **vantipov@nes.ru** with topic **\"NMF 2024 - Test - Surname\"**. Please also rename your file as **\"Surname_NMF2024_Test.ipynb\"** before sending. If your answer contains many files, please add them to archive (e.g. use zip format) with the same name as the main file.\n",
    "\n",
    "If you have any questions feel free to ask in Telegram in the group chat."
   ]
  },
  {
   "cell_type": "markdown",
   "metadata": {},
   "source": [
    "### 1. Salvaging a linear correlation matrix"
   ]
  },
  {
   "cell_type": "markdown",
   "metadata": {},
   "source": [
    "You are given a correlation matrix estimated by the historical returns on the following equity stocks **SBER, YDEX, T, MGNT**:\n",
    "\n",
    "$$\\text{C} = \\begin{pmatrix} 1 & 0.78 & 0.8 & 0.45 \\\\ 0.78 & 1 & 0.75 & 0.9 \\\\ 0.8 & 0.75 & 1 & 0.85 \\\\ 0.45 & 0.9 & 0.85 & 1 \\end{pmatrix}$$\n",
    "\n",
    "Unfortunately, this correlation matrix is not positive-semidefinite.\n",
    "\n",
    "On the seminar you faced with two algorithms, based on **hypersphere** and **spectral** decompositions, providing the way on how to adjust a correlation matrix to make it positive-semidefinite. Each of these algorithms have their own pros and cons. Your task is to combine these approaches to construct the new and the best one."
   ]
  },
  {
   "cell_type": "markdown",
   "metadata": {},
   "source": [
    "Implement the following algorithm:\n",
    "\n",
    "1. Apply a **spectral** decomposition algorithm, that is construct a symmetrix positive-definite matrix $\\widetilde{\\text{C}} = \\text{B} \\cdot \\text{B}^T. $\n",
    "\n",
    "2. Apply Cholesky decomposition to matrix $\\widetilde{\\text{C}} = \\text{L} \\cdot \\text{L}^{T}$. \n",
    "\n",
    "3. Use matrix $\\text{L}$ as an initial guess for the **hyphersphere** decomposition $\\widetilde{\\text{C}} = \\text{B}' \\cdot \\text{B}'^T$ with reduced number of $\\frac{n(n-1)}{2}$ angles, constructed with an optimization procedure."
   ]
  },
  {
   "cell_type": "markdown",
   "metadata": {},
   "source": [
    "Your answer should contatin the resulting matrix $\\widetilde{\\text{C}}$ and the $L_2$ norm between it and the original one. Does this combo-algorithm performs better than each of the algorithms separately?"
   ]
  },
  {
   "cell_type": "code",
   "execution_count": 1,
   "metadata": {},
   "outputs": [],
   "source": [
    "# YOU CODE HERE"
   ]
  },
  {
   "cell_type": "markdown",
   "metadata": {},
   "source": [
    "### 2. Monte-Carlo integration"
   ]
  },
  {
   "cell_type": "markdown",
   "metadata": {},
   "source": [
    "Having constructed the positive-semidefintie correlation matrix, you need to use it to price a basket option on **SBER** and **MGNT**.\n",
    "\n",
    "The payoff of your option at expiration $T$ is \n",
    "\n",
    "$$\\text{Payoff}(S^{SBER}_T, S^{MGNT}_T) = \\left(\\frac{1}{2} \\left(\\frac{S^{SBER}_T}{S^{SBER}_0} + \\frac{S^{MGNT}_T}{S^{MGNT}_0}\\right) - 100\\% \\right)_{+}.$$\n",
    "\n",
    "Assume that each stock evolves as a geometric Brownian motion:\n",
    "\n",
    "$$S^{SBER}_T = S^{SBER}_0 e^{(r - (\\sigma^{SBER})^2/2)T + \\sigma^{SBER} W^{SBER}_T}, \\quad S^{MGNT}_T = S^{MGNT}_0 e^{(r - (\\sigma^{MGNT})^2/2)T + \\sigma^{MGNT} W^{MGNT}_T},$$\n",
    "\n",
    "where $W^{SBER}_T$ and $W^{MGNT}_T$ are Brownian motions correlated with $\\rho^{SBER, MGNT}$. "
   ]
  },
  {
   "cell_type": "markdown",
   "metadata": {},
   "source": [
    "The price of the option can be expressed as the following expectation\n",
    "\n",
    "$$P = e^{-rT} \\cdot \\mathbb{E}^{\\mathbb{Q}} [\\text{Payoff}(S^{SBER}_T, S^{MGNT}_T)],$$\n",
    "\n",
    "wich can be evaluated using Monte-Carlo algorithm."
   ]
  },
  {
   "cell_type": "markdown",
   "metadata": {},
   "source": [
    "You may assume that risk-free interest rate $r = 21\\%$, the initial stock prices are $S^{SBER}_0 = 230$, $S^{MGNT}_0 = 4300$ and the volatilities are $\\sigma^{SBER}_0 = 30\\%$, $\\sigma^{MGNT}_0 = 40\\%$. The maturity of the option $T$ is equal to on year."
   ]
  },
  {
   "cell_type": "markdown",
   "metadata": {},
   "source": [
    "Your answer should contatin the plot of the price $P$ of the option as a function on number of Monte-Carlo simulations $N$. Does your algorithm converges? What is the speed of the convergence as a function of $N$? "
   ]
  },
  {
   "cell_type": "code",
   "execution_count": 2,
   "metadata": {},
   "outputs": [],
   "source": [
    "# YOU CODE HERE"
   ]
  },
  {
   "cell_type": "markdown",
   "metadata": {},
   "source": [
    "### 3. Implied volatilities interpolation"
   ]
  },
  {
   "cell_type": "markdown",
   "metadata": {},
   "source": [
    "You are observing the following  implied volatilities for maturity $T=1$: \n",
    "\n",
    "$$K/S_0 = \\{ 26\\%, \\quad 37\\%, \\quad 52\\%, \\quad 70\\%, \\quad 100\\%, \\quad 142\\%, \\quad 195\\% \\}$$\n",
    "$$\\sigma^{IV} = \\{ 42.5\\%, \\quad 37.5\\%, \\quad 32.5\\%, \\quad 28.5\\%, \\quad 25\\%, \\quad 23\\%, \\quad 22\\% \\}$$\n",
    "\n",
    "Assume that the risk-free interest rate is zero and the spot $S_0 = 1$."
   ]
  },
  {
   "cell_type": "markdown",
   "metadata": {},
   "source": [
    "Provide an interpolation algorithm (cubic splines, rational cubic splines or whatever you want) for the given implied volatilities. You **can not** use any algorithms built into scipy, numpy, or any other python module - use your one realization! Is your interpolation free of monotonicity ($C'(K) > 0$) and butterfly ($C''(K) > 0$) arbitrage? Your answer should contain a plot with interpolated implied volatilities as well as a numerical check that your interpolation does not violate no-arbitrage conditions described above. "
   ]
  },
  {
   "cell_type": "code",
   "execution_count": 3,
   "metadata": {},
   "outputs": [],
   "source": [
    "# YOU CODE HERE"
   ]
  },
  {
   "cell_type": "markdown",
   "metadata": {},
   "source": [
    "### 4. Pricing options within finite-differencing framework"
   ]
  },
  {
   "cell_type": "markdown",
   "metadata": {},
   "source": [
    "Your task is to price European/American options within finite-differencing approach. You may assume you are given an implied volatilities (together with your interplation method) from the previous task. "
   ]
  },
  {
   "cell_type": "markdown",
   "metadata": {},
   "source": [
    "1. Price within a finite-differencing method a European put option with strike $K=70\\%$ and a European call option with strike $K = 130\\%$. Use any numerical scheme you wish. Compare your results with the ones obtained analytically from Black-Scholes formula. How your results differ from the analytic ones?\n",
    "\n",
    "2. Price within a finite-differencing method an American put option with strike $K=70\\%$. Please note that an American option can be exercised at any time before the maturity if its intrinsic value is greater than calculated option price at that step. Use any numerical scheme you wish. Please describe the way how option's \"American\" property affects your finite-differencing algorithm when you are stepping in time. How its price differs from the price of European option with the same strike? "
   ]
  },
  {
   "cell_type": "markdown",
   "metadata": {},
   "source": [
    "You may use your own implementation of finite differencing algorithm or the one presented on the seminar."
   ]
  },
  {
   "cell_type": "code",
   "execution_count": 4,
   "metadata": {},
   "outputs": [],
   "source": [
    "# YOU CODE HERE"
   ]
  }
 ],
 "metadata": {
  "kernelspec": {
   "display_name": "nmf_2024_fall",
   "language": "python",
   "name": "python3"
  },
  "language_info": {
   "codemirror_mode": {
    "name": "ipython",
    "version": 3
   },
   "file_extension": ".py",
   "mimetype": "text/x-python",
   "name": "python",
   "nbconvert_exporter": "python",
   "pygments_lexer": "ipython3",
   "version": "3.11.2"
  }
 },
 "nbformat": 4,
 "nbformat_minor": 2
}
